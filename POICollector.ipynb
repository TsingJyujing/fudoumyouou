{
 "cells": [
  {
   "cell_type": "code",
   "id": "initial_id",
   "metadata": {
    "collapsed": true,
    "ExecuteTime": {
     "end_time": "2024-04-05T08:12:00.441169Z",
     "start_time": "2024-04-05T08:11:59.689813Z"
    }
   },
   "source": [
    "import time\n",
    "\n",
    "import googlemaps\n",
    "import pandas as pd\n",
    "import pymongo\n",
    "\n",
    "from domus_analytica.config import DomusSettings\n",
    "\n",
    "config = DomusSettings(_env_file=\".env.local\")\n",
    "domus_db = pymongo.MongoClient(config.mongo_uri).get_database(config.mongo_db_name)\n",
    "gmaps = googlemaps.Client(key=config.google_api_key)"
   ],
   "outputs": [],
   "execution_count": 1
  },
  {
   "cell_type": "code",
   "source": [
    "# Sampled some points in fukuoka\n",
    "SAMPLE_POINTS_FUKUOKA_STR = \"\"\"33.58411329732284, 130.24647273566035\n",
    "33.566926285036914, 130.3263123068401\n",
    "33.547249980752646, 130.35440700942175\n",
    "33.57962632829354, 130.36128124515983\n",
    "33.5477481703356, 130.39445690459132\n",
    "33.570991902675104, 130.4032803554425\n",
    "33.56043973747545, 130.4524655663517\n",
    "33.61279871253523, 130.41788428436948\n",
    "33.63507843097913, 130.43858256993548\n",
    "33.69243268074716, 130.4350487162268\n",
    "33.682771273719, 130.40071985236125\n",
    "33.65693217800206, 130.3371104869633\"\"\"\n",
    "SAMPLE_POINTS_FUKUOKA = [\n",
    "    [float(s.strip()) for s in row.split(\",\")]\n",
    "    for row in SAMPLE_POINTS_FUKUOKA_STR.split(\"\\n\")\n",
    "]\n",
    "SAMPLE_POINTS_FUKUOKA"
   ],
   "metadata": {
    "collapsed": false,
    "ExecuteTime": {
     "end_time": "2024-04-05T08:12:00.937596Z",
     "start_time": "2024-04-05T08:12:00.932711Z"
    }
   },
   "id": "6eac435256a78910",
   "outputs": [
    {
     "data": {
      "text/plain": [
       "[[33.58411329732284, 130.24647273566035],\n",
       " [33.566926285036914, 130.3263123068401],\n",
       " [33.547249980752646, 130.35440700942175],\n",
       " [33.57962632829354, 130.36128124515983],\n",
       " [33.5477481703356, 130.39445690459132],\n",
       " [33.570991902675104, 130.4032803554425],\n",
       " [33.56043973747545, 130.4524655663517],\n",
       " [33.61279871253523, 130.41788428436948],\n",
       " [33.63507843097913, 130.43858256993548],\n",
       " [33.69243268074716, 130.4350487162268],\n",
       " [33.682771273719, 130.40071985236125],\n",
       " [33.65693217800206, 130.3371104869633]]"
      ]
     },
     "execution_count": 2,
     "metadata": {},
     "output_type": "execute_result"
    }
   ],
   "execution_count": 2
  },
  {
   "cell_type": "code",
   "source": [
    "def places_nearby(**kwargs):\n",
    "    result = gmaps.places_nearby(**kwargs)\n",
    "    yield from result[\"results\"]\n",
    "    if kwargs.get(\"radius\") is not None:\n",
    "        while \"next_page_token\" in result:\n",
    "            try:\n",
    "                result = gmaps.places_nearby(page_token=result[\"next_page_token\"])\n",
    "                yield from result[\"results\"]\n",
    "            except Exception as e:\n",
    "                if str(e).find('INVALID_REQUEST') != -1:\n",
    "                    time.sleep(1.0)\n",
    "                else:\n",
    "                    raise e"
   ],
   "metadata": {
    "collapsed": false,
    "ExecuteTime": {
     "end_time": "2024-04-05T08:12:21.112757Z",
     "start_time": "2024-04-05T08:12:21.109896Z"
    }
   },
   "id": "449e3d65f10a2850",
   "outputs": [],
   "execution_count": 4
  },
  {
   "cell_type": "code",
   "source": [
    "google_cemetery_related = domus_db.get_collection(\"google_cemetery_related\")\n",
    "google_cemetery_related.create_index(\"place_id\", unique=True)\n",
    "for lat, lon in SAMPLE_POINTS_FUKUOKA:\n",
    "    for doc in places_nearby(\n",
    "            location=(lat, lon),\n",
    "            type=[\"cemetery\", \"funeral_home\"],\n",
    "            radius=10000,\n",
    "            language=\"ja\",\n",
    "    ):\n",
    "        google_cemetery_related.update_one({\"place_id\": doc[\"place_id\"]}, {\"$set\": doc}, upsert=True)"
   ],
   "metadata": {
    "collapsed": false,
    "ExecuteTime": {
     "end_time": "2024-04-05T10:33:40.751211Z",
     "start_time": "2024-04-05T10:32:51.661253Z"
    }
   },
   "id": "a64acba202b113bb",
   "outputs": [],
   "execution_count": 9
  },
  {
   "cell_type": "code",
   "outputs": [],
   "source": [
    "google_cemetery_related = domus_db.get_collection(\"google_cemetery_related\")\n",
    "google_cemetery_related.create_index(\"place_id\", unique=True)\n",
    "for lat, lon in SAMPLE_POINTS_FUKUOKA:\n",
    "    for doc in places_nearby(\n",
    "            location=(lat, lon),\n",
    "            type=[\"cemetery\", \"funeral_home\"],\n",
    "            radius=5000,\n",
    "            language=\"ja\",\n",
    "    ):\n",
    "        google_cemetery_related.update_one({\"place_id\": doc[\"place_id\"]}, {\"$set\": doc}, upsert=True)"
   ],
   "metadata": {
    "collapsed": false
   },
   "id": "92e409c467f11ad9",
   "execution_count": null
  },
  {
   "cell_type": "code",
   "outputs": [
    {
     "data": {
      "text/plain": "          名称           主たる事務所の所在地  代表する者\n番号                                      \n1     六代目山口組    兵庫県神戸市灘区篠原本町４－３－１  篠田　建市\n2        稲川会        東京都港区六本木７－８－４   辛　炳圭\n3        住吉会        東京都港区赤坂６－４－２１   小川　修\n4     五代目工藤會  福岡県北九州市小倉北区宇佐町１－８－８   野村　悟\n5        旭琉會    沖縄県中頭郡北中城村字島袋１３６２  永山　克博\n6   七代目会津小鉄会  京都府京都市左京区一乗寺塚本町２１－４    金　元\n7     六代目共政会    広島県広島市南区南大河町１８－１０   荒瀬　進\n8    七代目合田一家      山口県下関市竹崎町３－１３－６   金　教煥\n9    四代目小桜一家      鹿児島県鹿児島市甲突町９－２４  平岡　喜榮\n10    五代目浅野組       岡山県笠岡市笠岡６１５－１１   中岡　豊\n11       道仁会       福岡県久留米市京町２４７－６  小林　哲治\n12    二代目親和会      香川県高松市塩上町２－１４－４  𠮷良　博文\n13       双愛会      千葉県市原市潤井戸１３４３－８   椎塚　宣\n14    三代目侠道会      広島県尾道市山波町３０２５－１   池澤　望\n15       太州会    福岡県田川市大字弓削田１３１４－１   日高　博\n16    十代目酒梅組    大阪府大阪市西成区太子１－３－１７   李　正秀\n17       極東会    東京都新宿区歌舞伎町２－１８－１２   髙橋　仁\n18     二代目東組    大阪府大阪市西成区山王１－１１－８  滝本　博司\n19       松葉会       東京都台東区西浅草２－９－８  伊藤　義克\n20    四代目福博会   福岡県福岡市博多区千代５－１８－１５   金　國泰\n21    浪川会　　　       福岡県大牟田市八江町３８－１   朴　政浩\n22     神戸山口組   兵庫県神戸市中央区二宮町３－１０－７  井上　邦雄\n23        絆會     兵庫県尼崎市戸ノ内町３－３２－６   金　禎紀\n24    関東関根組       茨城県土浦市桜町４－１０－１３  大塚　逸男\n25       池田組     岡山県岡山市北区田町２－１２－２   金　孝志",
      "text/html": "<div>\n<style scoped>\n    .dataframe tbody tr th:only-of-type {\n        vertical-align: middle;\n    }\n\n    .dataframe tbody tr th {\n        vertical-align: top;\n    }\n\n    .dataframe thead th {\n        text-align: right;\n    }\n</style>\n<table border=\"1\" class=\"dataframe\">\n  <thead>\n    <tr style=\"text-align: right;\">\n      <th></th>\n      <th>名称</th>\n      <th>主たる事務所の所在地</th>\n      <th>代表する者</th>\n    </tr>\n    <tr>\n      <th>番号</th>\n      <th></th>\n      <th></th>\n      <th></th>\n    </tr>\n  </thead>\n  <tbody>\n    <tr>\n      <th>1</th>\n      <td>六代目山口組</td>\n      <td>兵庫県神戸市灘区篠原本町４－３－１</td>\n      <td>篠田　建市</td>\n    </tr>\n    <tr>\n      <th>2</th>\n      <td>稲川会</td>\n      <td>東京都港区六本木７－８－４</td>\n      <td>辛　炳圭</td>\n    </tr>\n    <tr>\n      <th>3</th>\n      <td>住吉会</td>\n      <td>東京都港区赤坂６－４－２１</td>\n      <td>小川　修</td>\n    </tr>\n    <tr>\n      <th>4</th>\n      <td>五代目工藤會</td>\n      <td>福岡県北九州市小倉北区宇佐町１－８－８</td>\n      <td>野村　悟</td>\n    </tr>\n    <tr>\n      <th>5</th>\n      <td>旭琉會</td>\n      <td>沖縄県中頭郡北中城村字島袋１３６２</td>\n      <td>永山　克博</td>\n    </tr>\n    <tr>\n      <th>6</th>\n      <td>七代目会津小鉄会</td>\n      <td>京都府京都市左京区一乗寺塚本町２１－４</td>\n      <td>金　元</td>\n    </tr>\n    <tr>\n      <th>7</th>\n      <td>六代目共政会</td>\n      <td>広島県広島市南区南大河町１８－１０</td>\n      <td>荒瀬　進</td>\n    </tr>\n    <tr>\n      <th>8</th>\n      <td>七代目合田一家</td>\n      <td>山口県下関市竹崎町３－１３－６</td>\n      <td>金　教煥</td>\n    </tr>\n    <tr>\n      <th>9</th>\n      <td>四代目小桜一家</td>\n      <td>鹿児島県鹿児島市甲突町９－２４</td>\n      <td>平岡　喜榮</td>\n    </tr>\n    <tr>\n      <th>10</th>\n      <td>五代目浅野組</td>\n      <td>岡山県笠岡市笠岡６１５－１１</td>\n      <td>中岡　豊</td>\n    </tr>\n    <tr>\n      <th>11</th>\n      <td>道仁会</td>\n      <td>福岡県久留米市京町２４７－６</td>\n      <td>小林　哲治</td>\n    </tr>\n    <tr>\n      <th>12</th>\n      <td>二代目親和会</td>\n      <td>香川県高松市塩上町２－１４－４</td>\n      <td>𠮷良　博文</td>\n    </tr>\n    <tr>\n      <th>13</th>\n      <td>双愛会</td>\n      <td>千葉県市原市潤井戸１３４３－８</td>\n      <td>椎塚　宣</td>\n    </tr>\n    <tr>\n      <th>14</th>\n      <td>三代目侠道会</td>\n      <td>広島県尾道市山波町３０２５－１</td>\n      <td>池澤　望</td>\n    </tr>\n    <tr>\n      <th>15</th>\n      <td>太州会</td>\n      <td>福岡県田川市大字弓削田１３１４－１</td>\n      <td>日高　博</td>\n    </tr>\n    <tr>\n      <th>16</th>\n      <td>十代目酒梅組</td>\n      <td>大阪府大阪市西成区太子１－３－１７</td>\n      <td>李　正秀</td>\n    </tr>\n    <tr>\n      <th>17</th>\n      <td>極東会</td>\n      <td>東京都新宿区歌舞伎町２－１８－１２</td>\n      <td>髙橋　仁</td>\n    </tr>\n    <tr>\n      <th>18</th>\n      <td>二代目東組</td>\n      <td>大阪府大阪市西成区山王１－１１－８</td>\n      <td>滝本　博司</td>\n    </tr>\n    <tr>\n      <th>19</th>\n      <td>松葉会</td>\n      <td>東京都台東区西浅草２－９－８</td>\n      <td>伊藤　義克</td>\n    </tr>\n    <tr>\n      <th>20</th>\n      <td>四代目福博会</td>\n      <td>福岡県福岡市博多区千代５－１８－１５</td>\n      <td>金　國泰</td>\n    </tr>\n    <tr>\n      <th>21</th>\n      <td>浪川会</td>\n      <td>福岡県大牟田市八江町３８－１</td>\n      <td>朴　政浩</td>\n    </tr>\n    <tr>\n      <th>22</th>\n      <td>神戸山口組</td>\n      <td>兵庫県神戸市中央区二宮町３－１０－７</td>\n      <td>井上　邦雄</td>\n    </tr>\n    <tr>\n      <th>23</th>\n      <td>絆會</td>\n      <td>兵庫県尼崎市戸ノ内町３－３２－６</td>\n      <td>金　禎紀</td>\n    </tr>\n    <tr>\n      <th>24</th>\n      <td>関東関根組</td>\n      <td>茨城県土浦市桜町４－１０－１３</td>\n      <td>大塚　逸男</td>\n    </tr>\n    <tr>\n      <th>25</th>\n      <td>池田組</td>\n      <td>岡山県岡山市北区田町２－１２－２</td>\n      <td>金　孝志</td>\n    </tr>\n  </tbody>\n</table>\n</div>"
     },
     "execution_count": 26,
     "metadata": {},
     "output_type": "execute_result"
    }
   ],
   "source": [
    "df = pd.read_csv(\"data/bouryokudan.csv\", index_col=\"番号\")\n",
    "df"
   ],
   "metadata": {
    "collapsed": false,
    "ExecuteTime": {
     "end_time": "2024-04-04T05:06:58.055033Z",
     "start_time": "2024-04-04T05:06:58.044221Z"
    }
   },
   "id": "d40490c7aabb6e33",
   "execution_count": 26
  },
  {
   "cell_type": "code",
   "outputs": [],
   "source": [
    "japan_mafia = domus_db.get_collection(\"japan_mafia\")\n",
    "japan_mafia.create_index(\"place_id\", unique=True)\n",
    "for index, row in df.iterrows():\n",
    "    address = row[\"主たる事務所の所在地\"]\n",
    "    for doc in gmaps.geocode(address=address, language=\"ja\", region=\"ja\"):\n",
    "        doc[\"mafia_boss\"] = row[\"代表する者\"]\n",
    "        doc[\"mafia_name\"] = row[\"名称\"]\n",
    "        japan_mafia.update_one({\"place_id\": doc[\"place_id\"]}, {\"$set\": doc}, upsert=True)"
   ],
   "metadata": {
    "collapsed": false,
    "ExecuteTime": {
     "end_time": "2024-04-04T05:46:14.551095Z",
     "start_time": "2024-04-04T05:46:10.710575Z"
    }
   },
   "id": "ead339212334d9d0",
   "execution_count": 30
  },
  {
   "cell_type": "code",
   "outputs": [],
   "source": [],
   "metadata": {
    "collapsed": false
   },
   "id": "c0f52525a522f462",
   "execution_count": null
  }
 ],
 "metadata": {
  "kernelspec": {
   "display_name": "Python 3",
   "language": "python",
   "name": "python3"
  },
  "language_info": {
   "codemirror_mode": {
    "name": "ipython",
    "version": 2
   },
   "file_extension": ".py",
   "mimetype": "text/x-python",
   "name": "python",
   "nbconvert_exporter": "python",
   "pygments_lexer": "ipython2",
   "version": "2.7.6"
  }
 },
 "nbformat": 4,
 "nbformat_minor": 5
}
