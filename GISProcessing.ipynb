{
 "cells": [
  {
   "cell_type": "markdown",
   "source": [
    "# Caution!\n",
    "\n",
    "Google API is super expensive, please take care while running this script.\n",
    "\n",
    "TODO: use GIS data instead of google API."
   ],
   "metadata": {
    "collapsed": false
   },
   "id": "e56dcb7a01cfe6a5"
  },
  {
   "cell_type": "code",
   "source": [
    "import time\n",
    "from concurrent.futures import ThreadPoolExecutor\n",
    "from datetime import datetime\n",
    "\n",
    "import googlemaps\n",
    "import pymongo\n",
    "\n",
    "from domus_analytica.config import DomusSettings\n",
    "\n",
    "config = DomusSettings(_env_file=\".env.local\")\n",
    "domus_db = pymongo.MongoClient(config.mongo_uri).get_database(config.mongo_db_name)\n",
    "suumo_details = domus_db.get_collection(\"suumo_details\")\n",
    "gmaps = googlemaps.Client(key=config.google_api_key)\n",
    "\n",
    "search_time = datetime(2024, 4, 1, 14, 46, 31, 449000)"
   ],
   "metadata": {
    "collapsed": false,
    "ExecuteTime": {
     "end_time": "2024-04-05T08:11:51.548647Z",
     "start_time": "2024-04-05T08:11:51.314023Z"
    }
   },
   "id": "6d0526f36e6bf345",
   "outputs": [],
   "execution_count": 1
  },
  {
   "cell_type": "code",
   "source": [
    "cond = {'search_time': search_time, \"gps\": {\"$exists\": False}}\n",
    "print(f\"There's {suumo_details.count_documents(cond)} documents need to update GPS info.\")"
   ],
   "metadata": {
    "collapsed": false,
    "ExecuteTime": {
     "end_time": "2024-04-05T08:11:52.580584Z",
     "start_time": "2024-04-05T08:11:52.530122Z"
    }
   },
   "id": "69dd3d152a7d1840",
   "outputs": [
    {
     "name": "stdout",
     "output_type": "stream",
     "text": [
      "There's 0 documents need to update GPS info.\n"
     ]
    }
   ],
   "execution_count": 2
  },
  {
   "cell_type": "code",
   "outputs": [],
   "source": [
    "for doc in suumo_details.find(cond):\n",
    "    id_url = doc[\"search_details\"][\"url\"]\n",
    "    result_doc = {\"id\": id_url}\n",
    "    content_details = {\n",
    "        d[\"type\"]: d[\"content\"] for d in doc[\"content_details\"]\n",
    "    }\n",
    "    if \"gps\" not in doc:\n",
    "        address = content_details[\"住所\"].split(\"\\n\")[0]\n",
    "        geocode_result = gmaps.geocode(address, region=\"ja\", language=\"ja\")\n",
    "        gps = {\n",
    "            \"latitude\": geocode_result[0][\"geometry\"][\"location\"][\"lat\"],\n",
    "            \"longitude\": geocode_result[0][\"geometry\"][\"location\"][\"lng\"],\n",
    "        }\n",
    "        suumo_details.update_one({\"_id\": doc[\"_id\"]}, {\"$set\": {\"gps\": gps}})\n",
    "        print(f\"Update address {address}'s GPS: {gps}\")"
   ],
   "metadata": {
    "collapsed": false,
    "ExecuteTime": {
     "end_time": "2024-04-02T06:47:37.335671Z",
     "start_time": "2024-04-02T06:47:37.140061Z"
    }
   },
   "id": "2a9ecb9aacfd03a4",
   "execution_count": 45
  },
  {
   "cell_type": "code",
   "outputs": [],
   "source": [
    "# To some key points\n",
    "KEY_POINTS = [\n",
    "    (\n",
    "        (33.59118086094799, 130.398581611983),\n",
    "        \"tenjin\",\n",
    "    ),\n",
    "    (\n",
    "        (33.5873955705478, 130.41968891935684),\n",
    "        \"hakata\"\n",
    "    ),\n",
    "    (\n",
    "        (33.59030230439562, 130.37888950301377),\n",
    "        \"ohori_park\"\n",
    "    ),\n",
    "]\n",
    "for doc in suumo_details.find({'search_time': search_time}):\n",
    "    suumo_details.update_one({\"_id\": doc[\"_id\"]}, {\"$set\": {\n",
    "        f\"drive_routes_to_{target_name}\": gmaps.directions(\n",
    "            origin=(doc[\"gps\"][\"latitude\"], doc[\"gps\"][\"latitude\"]),\n",
    "            destination=target_gps,\n",
    "            mode=\"driving\",\n",
    "            language=\"ja\",\n",
    "            units=\"metric\",\n",
    "            region=\"ja\",\n",
    "        ) for target_gps, target_name in KEY_POINTS\n",
    "    }})"
   ],
   "metadata": {
    "collapsed": false,
    "ExecuteTime": {
     "end_time": "2024-04-02T06:50:37.818713Z",
     "start_time": "2024-04-02T06:47:38.836331Z"
    }
   },
   "id": "fa1ab80dba1e4427",
   "execution_count": 46
  },
  {
   "cell_type": "code",
   "outputs": [
    {
     "data": {
      "text/plain": "[{'business_status': 'OPERATIONAL',\n  'geometry': {'location': {'lat': 33.5706786, 'lng': 130.2460898},\n   'viewport': {'northeast': {'lat': 33.5721407302915,\n     'lng': 130.2472077802915},\n    'southwest': {'lat': 33.5694427697085, 'lng': 130.2445098197085}}},\n  'icon': 'https://maps.gstatic.com/mapfiles/place_api/icons/v1/png_71/train-71.png',\n  'icon_background_color': '#10BDFF',\n  'icon_mask_base_uri': 'https://maps.gstatic.com/mapfiles/place_api/icons/v2/train_rail_1_pinlet',\n  'name': 'Susenji Station',\n  'photos': [{'height': 3024,\n    'html_attributions': ['<a href=\"https://maps.google.com/maps/contrib/117633406339242227669\">TAKESHI M</a>'],\n    'photo_reference': 'ATplDJba8EYQLtVJqn-b8AJFNWkrGE5oZ33LkrFv3kRh1M5ZNVBeyqGrx031iLlrBJLSeultqT7ZKyAvrcrTmZ4iwsy8GAB3BZsLtdlrdWD1_pbFUSHD66z0yEJ9RJQ_kPpy8mkroII85V77eTnxJofX0gPjS3gVK7vdKe7LoHu9fcsSJmQu',\n    'width': 4032}],\n  'place_id': 'ChIJNxjQssnrQTUR25oaQYi9no8',\n  'plus_code': {'compound_code': 'H6CW+7C Fukuoka, Japan',\n   'global_code': '8Q5GH6CW+7C'},\n  'rating': 3.8,\n  'reference': 'ChIJNxjQssnrQTUR25oaQYi9no8',\n  'scope': 'GOOGLE',\n  'types': ['train_station',\n   'transit_station',\n   'point_of_interest',\n   'establishment'],\n  'user_ratings_total': 53,\n  'vicinity': 'Japan'},\n {'business_status': 'OPERATIONAL',\n  'geometry': {'location': {'lat': 33.578156, 'lng': 130.2597593},\n   'viewport': {'northeast': {'lat': 33.5795005302915,\n     'lng': 130.2609784302915},\n    'southwest': {'lat': 33.5768025697085, 'lng': 130.2582804697085}}},\n  'icon': 'https://maps.gstatic.com/mapfiles/place_api/icons/v1/png_71/train-71.png',\n  'icon_background_color': '#10BDFF',\n  'icon_mask_base_uri': 'https://maps.gstatic.com/mapfiles/place_api/icons/v2/train_rail_1_pinlet',\n  'name': 'Kyūdai-Gakkentoshi Station',\n  'photos': [{'height': 3024,\n    'html_attributions': ['<a href=\"https://maps.google.com/maps/contrib/118183344258240882098\">Niraj Shrestha</a>'],\n    'photo_reference': 'ATplDJZaKXGj73sRJcTEJQfKO8lIBMEebqlhAS6LvCjNNSYecMhnbUVbbE1h7sAChQXHinhRkGhLPEWxPK326eBoTDRypnf4v1SnDRSq4Q08C_IrfLLygkc9-V78mQUsvPSNBg0diUt4OWEGXYZpSD7vupdioD6wwz256rWpDH49oEMGe1jy',\n    'width': 4032}],\n  'place_id': 'ChIJQ-t2Z5jrQTUR3FaIETfUHD8',\n  'plus_code': {'compound_code': 'H7H5+7W Fukuoka, Japan',\n   'global_code': '8Q5GH7H5+7W'},\n  'rating': 3.9,\n  'reference': 'ChIJQ-t2Z5jrQTUR3FaIETfUHD8',\n  'scope': 'GOOGLE',\n  'types': ['train_station',\n   'transit_station',\n   'point_of_interest',\n   'establishment'],\n  'user_ratings_total': 121,\n  'vicinity': 'Japan'},\n {'business_status': 'OPERATIONAL',\n  'geometry': {'location': {'lat': 33.5793985, 'lng': 130.2735555},\n   'viewport': {'northeast': {'lat': 33.5808366802915,\n     'lng': 130.2748684302915},\n    'southwest': {'lat': 33.5781387197085, 'lng': 130.2721704697085}}},\n  'icon': 'https://maps.gstatic.com/mapfiles/place_api/icons/v1/png_71/train-71.png',\n  'icon_background_color': '#10BDFF',\n  'icon_mask_base_uri': 'https://maps.gstatic.com/mapfiles/place_api/icons/v2/train_rail_1_pinlet',\n  'name': 'Imajuku Station',\n  'photos': [{'height': 3024,\n    'html_attributions': ['<a href=\"https://maps.google.com/maps/contrib/106045225125737927864\">haruki二等兵</a>'],\n    'photo_reference': 'ATplDJZV1I0dvDsNbLjRcIxkTVtrWzQaVy6mLh5dhZduexcFXJipsI24o77fDx1biXE0zx3VEL9958ZQK5HdS-YYiQTH4euDuOIwhtePtpr42OEeuRn2Z7L2CFIstDr5LkCycCUVCvtj1UeCw8R2E8gkJTUijN1ilXbxwyNWyOkj5zKeVhnx',\n    'width': 4032}],\n  'place_id': 'ChIJc9xPznDrQTURFG6POsK0Ulc',\n  'plus_code': {'compound_code': 'H7HF+QC Fukuoka, Japan',\n   'global_code': '8Q5GH7HF+QC'},\n  'rating': 3.6,\n  'reference': 'ChIJc9xPznDrQTURFG6POsK0Ulc',\n  'scope': 'GOOGLE',\n  'types': ['train_station',\n   'transit_station',\n   'point_of_interest',\n   'establishment'],\n  'user_ratings_total': 63,\n  'vicinity': 'Japan'},\n {'business_status': 'OPERATIONAL',\n  'geometry': {'location': {'lat': 33.5641553, 'lng': 130.226946},\n   'viewport': {'northeast': {'lat': 33.5656257302915,\n     'lng': 130.2281707802915},\n    'southwest': {'lat': 33.5629277697085, 'lng': 130.2254728197085}}},\n  'icon': 'https://maps.gstatic.com/mapfiles/place_api/icons/v1/png_71/train-71.png',\n  'icon_background_color': '#10BDFF',\n  'icon_mask_base_uri': 'https://maps.gstatic.com/mapfiles/place_api/icons/v2/train_rail_1_pinlet',\n  'name': 'Hatae Station',\n  'photos': [{'height': 3792,\n    'html_attributions': ['<a href=\"https://maps.google.com/maps/contrib/103943134046614570471\">まめ太郎</a>'],\n    'photo_reference': 'ATplDJbP5uzsfkJYYSG_EFEWR7UyTbBxGX6qZWefitUA2SUqCWF0C59xDDlKJNBD-C9lLcotywQgrdQvR1DMNCBFronpGDlqWmd5oTVdaO8Pb9TTD7hwim0bq73pCaR3oQhoZ5AvH5ZkiVAxV8GWkJ7lnOtQrq6EjlRj2ngXA0_MiLvzDMGP',\n    'width': 5056}],\n  'place_id': 'ChIJiwr3gYfpQTURO7baqn0K7e4',\n  'plus_code': {'compound_code': 'H67G+MQ Itoshima, Fukuoka, Japan',\n   'global_code': '8Q5GH67G+MQ'},\n  'rating': 3.7,\n  'reference': 'ChIJiwr3gYfpQTURO7baqn0K7e4',\n  'scope': 'GOOGLE',\n  'types': ['train_station',\n   'transit_station',\n   'point_of_interest',\n   'establishment'],\n  'user_ratings_total': 35,\n  'vicinity': '4 Chome-3 Hataeekikita, Itoshima'},\n {'business_status': 'OPERATIONAL',\n  'geometry': {'location': {'lat': 33.5607228, 'lng': 130.2133713},\n   'viewport': {'northeast': {'lat': 33.5620717802915,\n     'lng': 130.2147202802915},\n    'southwest': {'lat': 33.5593738197085, 'lng': 130.2120223197085}}},\n  'icon': 'https://maps.gstatic.com/mapfiles/place_api/icons/v1/png_71/train-71.png',\n  'icon_background_color': '#10BDFF',\n  'icon_mask_base_uri': 'https://maps.gstatic.com/mapfiles/place_api/icons/v2/train_rail_1_pinlet',\n  'name': 'Itoshimakokomae Station',\n  'photos': [{'height': 2268,\n    'html_attributions': ['<a href=\"https://maps.google.com/maps/contrib/105612952778366602264\">Nekoz Kuro</a>'],\n    'photo_reference': 'ATplDJZPWil5S9HYT8VAsu09w8DW0BEq8FQEgAue9InYodE-V6xcui_1m6i8pHfdAUCEzWzL7EfopmO2vssoKkrhp1vuAHzHcwK15nNpcvey4IxorGC68CtmpR2Kt9bxARmoO-hwFigEK6I2nDX0s26tFcoPXUN3y_DQ9LN-VMA8VmQp4b_N',\n    'width': 4032}],\n  'place_id': 'ChIJIfiOfZPpQTURke-CLxPzaMk',\n  'plus_code': {'compound_code': 'H667+78 Itoshima, Fukuoka, Japan',\n   'global_code': '8Q5GH667+78'},\n  'rating': 4.1,\n  'reference': 'ChIJIfiOfZPpQTURke-CLxPzaMk',\n  'scope': 'GOOGLE',\n  'types': ['train_station',\n   'transit_station',\n   'point_of_interest',\n   'establishment'],\n  'user_ratings_total': 44,\n  'vicinity': 'Japan'},\n {'business_status': 'OPERATIONAL',\n  'geometry': {'location': {'lat': 33.5571143, 'lng': 130.1994003},\n   'viewport': {'northeast': {'lat': 33.55857373029151,\n     'lng': 130.2006629802915},\n    'southwest': {'lat': 33.55587576970851, 'lng': 130.1979650197085}}},\n  'icon': 'https://maps.gstatic.com/mapfiles/place_api/icons/v1/png_71/train-71.png',\n  'icon_background_color': '#10BDFF',\n  'icon_mask_base_uri': 'https://maps.gstatic.com/mapfiles/place_api/icons/v2/train_rail_1_pinlet',\n  'name': 'Chikuzenmaebaru Station',\n  'photos': [{'height': 3000,\n    'html_attributions': ['<a href=\"https://maps.google.com/maps/contrib/113840683607462980844\">Tsutomu Kotera</a>'],\n    'photo_reference': 'ATplDJYfuOSIrw-TGDAb4Jv7mqosE5ufKXw7I5g20JyFi7AChSyX02vE4I699pBed7xyLNlgpLXfOp7FBhpAg33pQ-_LXl1r4CnomzJop-0R4BNFngeAY8wL5c75slUlYaSSuKqA61YIuwHPa48V3Qvl__D9GHhyA1U1qwP-t7LU9JVJmS-G',\n    'width': 4000}],\n  'place_id': 'ChIJZWaFScTpQTURlKyE6NdNo4o',\n  'plus_code': {'compound_code': 'H54X+RQ Itoshima, Fukuoka, Japan',\n   'global_code': '8Q5GH54X+RQ'},\n  'rating': 4.1,\n  'reference': 'ChIJZWaFScTpQTURlKyE6NdNo4o',\n  'scope': 'GOOGLE',\n  'types': ['train_station',\n   'transit_station',\n   'point_of_interest',\n   'establishment'],\n  'user_ratings_total': 19,\n  'vicinity': 'Japan'},\n {'business_status': 'OPERATIONAL',\n  'geometry': {'location': {'lat': 33.557077, 'lng': 130.1993261},\n   'viewport': {'northeast': {'lat': 33.5585518302915,\n     'lng': 130.2006159802915},\n    'southwest': {'lat': 33.5558538697085, 'lng': 130.1979180197085}}},\n  'icon': 'https://maps.gstatic.com/mapfiles/place_api/icons/v1/png_71/train-71.png',\n  'icon_background_color': '#10BDFF',\n  'icon_mask_base_uri': 'https://maps.gstatic.com/mapfiles/place_api/icons/v2/train_rail_1_pinlet',\n  'name': 'Chikuzen-Maebaru Station',\n  'photos': [{'height': 768,\n    'html_attributions': ['<a href=\"https://maps.google.com/maps/contrib/112507143821849750804\">haniwa</a>'],\n    'photo_reference': 'ATplDJYMBThLnLuKnasB-52U2-AhJvswU22kEv2ALVguh0qn7I0Ci_y47Z_u0Vd5B0Jr6BWM6wfqICWM6GPCb0ye-pzjBWSmbwPGDCj2Ob14GjDvlEHMVRshsICIDTf-QfeDxnOi-6cLwTNdOw0qfVcK2RXuU8Hx_tAdizDijofINB3XWe8d',\n    'width': 1024}],\n  'place_id': 'ChIJUwwqSsTpQTURi0FNlRrAW_Y',\n  'plus_code': {'compound_code': 'H54X+RP Itoshima, Fukuoka, Japan',\n   'global_code': '8Q5GH54X+RP'},\n  'rating': 3.7,\n  'reference': 'ChIJUwwqSsTpQTURi0FNlRrAW_Y',\n  'scope': 'GOOGLE',\n  'types': ['train_station',\n   'transit_station',\n   'point_of_interest',\n   'establishment'],\n  'user_ratings_total': 141,\n  'vicinity': '福岡県糸島市前原中央１丁目１−１５'},\n {'business_status': 'OPERATIONAL',\n  'geometry': {'location': {'lat': 33.5818843, 'lng': 130.3082601},\n   'viewport': {'northeast': {'lat': 33.58317393029149,\n     'lng': 130.3095825802915},\n    'southwest': {'lat': 33.58047596970849, 'lng': 130.3068846197085}}},\n  'icon': 'https://maps.gstatic.com/mapfiles/place_api/icons/v1/png_71/train-71.png',\n  'icon_background_color': '#10BDFF',\n  'icon_mask_base_uri': 'https://maps.gstatic.com/mapfiles/place_api/icons/v2/train_rail_1_pinlet',\n  'name': 'Shimoyamato Station',\n  'photos': [{'height': 3888,\n    'html_attributions': ['<a href=\"https://maps.google.com/maps/contrib/116024167932275729465\">がんば</a>'],\n    'photo_reference': 'ATplDJaR74nDtk3URpKo_T92sSwOXgPrReVgifIE-YN2Pag84XiNeDWBUflC8v_yI25TaC0Amu8MfgrltRjkBdGXJFR1peVxyBsm-3Z2m8frZJ5t6hhW4DKguP5TND6jLn8OSLZWq_nwd0ZgUcFSHuS7QkItgtocsCMt_cxqSQiIcBmnnFyy',\n    'width': 5184}],\n  'place_id': 'ChIJOakJpqzsQTURic-fHIMn-aU',\n  'plus_code': {'compound_code': 'H8J5+Q8 Fukuoka, Japan',\n   'global_code': '8Q5GH8J5+Q8'},\n  'rating': 3.5,\n  'reference': 'ChIJOakJpqzsQTURic-fHIMn-aU',\n  'scope': 'GOOGLE',\n  'types': ['train_station',\n   'transit_station',\n   'point_of_interest',\n   'establishment'],\n  'user_ratings_total': 37,\n  'vicinity': 'Japan'},\n {'business_status': 'OPERATIONAL',\n  'geometry': {'location': {'lat': 33.54988719999999, 'lng': 130.1853912},\n   'viewport': {'northeast': {'lat': 33.5512758802915,\n     'lng': 130.1868386802915},\n    'southwest': {'lat': 33.5485779197085, 'lng': 130.1841407197085}}},\n  'icon': 'https://maps.gstatic.com/mapfiles/place_api/icons/v1/png_71/train-71.png',\n  'icon_background_color': '#10BDFF',\n  'icon_mask_base_uri': 'https://maps.gstatic.com/mapfiles/place_api/icons/v2/train_rail_1_pinlet',\n  'name': 'Misakigaoka Station',\n  'photos': [{'height': 2976,\n    'html_attributions': ['<a href=\"https://maps.google.com/maps/contrib/111857922624919811843\">H Tj</a>'],\n    'photo_reference': 'ATplDJY5TEwxpC62SyFABOc-5Bh5GFWvcjp-WahBJyNo_ifjOpQJni8M2IUNtiFcQ1uw4RT8tKU3SvE6zU7ZECpmMaSOz8BLrlkiN2Ccfbbcus34WxdPUJNRRayI2wKl1B9NiTP8wQf2FoR_5zihdVC3vBmpnU3qGbUH8BHrKbt9XfqMtOjn',\n    'width': 3968}],\n  'place_id': 'ChIJH3hypiroQTURAAungf6pydg',\n  'plus_code': {'compound_code': 'G5XP+X5 Itoshima, Fukuoka, Japan',\n   'global_code': '8Q5GG5XP+X5'},\n  'rating': 3.6,\n  'reference': 'ChIJH3hypiroQTURAAungf6pydg',\n  'scope': 'GOOGLE',\n  'types': ['train_station',\n   'transit_station',\n   'point_of_interest',\n   'establishment'],\n  'user_ratings_total': 18,\n  'vicinity': 'Japan'},\n {'business_status': 'OPERATIONAL',\n  'geometry': {'location': {'lat': 33.58374809999999, 'lng': 130.3250732},\n   'viewport': {'northeast': {'lat': 33.5850447802915,\n     'lng': 130.3262028302915},\n    'southwest': {'lat': 33.5823468197085, 'lng': 130.3235048697085}}},\n  'icon': 'https://maps.gstatic.com/mapfiles/place_api/icons/v1/png_71/generic_business-71.png',\n  'icon_background_color': '#7B9EB0',\n  'icon_mask_base_uri': 'https://maps.gstatic.com/mapfiles/place_api/icons/v2/generic_pinlet',\n  'name': 'Meinohama Station',\n  'photos': [{'height': 4000,\n    'html_attributions': ['<a href=\"https://maps.google.com/maps/contrib/115925522756514764744\">たびねこ</a>'],\n    'photo_reference': 'ATplDJbM0ZBanmM45pmU4TkRc-orS2fUKJAmRv19u2HNfSdUk81puvRjDG5NbVA8ozztxdcXP-5Ty-nG3UX0VFWkwbW10SB6AZt-79Tz_jYxFG6_ZL-HzEG686tJS4oiOTHrdXlTvmTb3K_g6ZN337vJof19Ck3PyWr_JkvZU4V0T493iJcz',\n    'width': 6000}],\n  'place_id': 'ChIJx_5g8UOTQTURx5Y90d8MUUE',\n  'plus_code': {'compound_code': 'H8MG+F2 Fukuoka, Japan',\n   'global_code': '8Q5GH8MG+F2'},\n  'rating': 3.7,\n  'reference': 'ChIJx_5g8UOTQTURx5Y90d8MUUE',\n  'scope': 'GOOGLE',\n  'types': ['transit_station',\n   'train_station',\n   'subway_station',\n   'point_of_interest',\n   'establishment'],\n  'user_ratings_total': 222,\n  'vicinity': '4-chōme-8-1 Meinohama, Nishi Ward, Fukuoka'},\n {'business_status': 'OPERATIONAL',\n  'geometry': {'location': {'lat': 33.5431571, 'lng': 130.1762034},\n   'viewport': {'northeast': {'lat': 33.5447219802915,\n     'lng': 130.1774447302915},\n    'southwest': {'lat': 33.5420240197085, 'lng': 130.1747467697085}}},\n  'icon': 'https://maps.gstatic.com/mapfiles/place_api/icons/v1/png_71/train-71.png',\n  'icon_background_color': '#10BDFF',\n  'icon_mask_base_uri': 'https://maps.gstatic.com/mapfiles/place_api/icons/v2/train_rail_1_pinlet',\n  'name': 'Kafuri Station',\n  'photos': [{'height': 3456,\n    'html_attributions': ['<a href=\"https://maps.google.com/maps/contrib/113253145331455504947\">U-SKE I</a>'],\n    'photo_reference': 'ATplDJZuKZ-RjOnFmBOx6NYYWL_CZvVTqUZJJAE4fEbOA7CpXPDtbWPMKshURBJ6dM4-PYJVtPTlFc_OFJ2xX1Btg4DBI9ZD6i1HN0YgiKFQa0lF5JgPrNMSi_sGH3i4-yFaQaTNRFvKpyaKr1J4fhS9QXIhSnNJ1dD6TNN_HEi3TMrg8mRV',\n    'width': 4608}],\n  'place_id': 'ChIJGRi9-4_CQTURdC5WFi0sFTc',\n  'plus_code': {'compound_code': 'G5VG+7F Itoshima, Fukuoka, Japan',\n   'global_code': '8Q5GG5VG+7F'},\n  'rating': 3.6,\n  'reference': 'ChIJGRi9-4_CQTURdC5WFi0sFTc',\n  'scope': 'GOOGLE',\n  'types': ['train_station',\n   'transit_station',\n   'point_of_interest',\n   'establishment'],\n  'user_ratings_total': 31,\n  'vicinity': 'Japan'},\n {'business_status': 'OPERATIONAL',\n  'geometry': {'location': {'lat': 33.534303, 'lng': 130.17448},\n   'viewport': {'northeast': {'lat': 33.5356540802915,\n     'lng': 130.1758923302915},\n    'southwest': {'lat': 33.5329561197085, 'lng': 130.1731943697085}}},\n  'icon': 'https://maps.gstatic.com/mapfiles/place_api/icons/v1/png_71/train-71.png',\n  'icon_background_color': '#10BDFF',\n  'icon_mask_base_uri': 'https://maps.gstatic.com/mapfiles/place_api/icons/v2/train_rail_1_pinlet',\n  'name': '遊学舎',\n  'photos': [{'height': 2268,\n    'html_attributions': ['<a href=\"https://maps.google.com/maps/contrib/117633406339242227669\">TAKESHI M</a>'],\n    'photo_reference': 'ATplDJaJ5VgGkPp0zcGLnQOwUlTaCF_l-yF7dsY_646PJQWjfP2MbcriwUg-2GNm2dY8GTbWYiquQJ0V3Ju8qWe45CBcqXAli7e4v_ipOwERe0SwM5qsJ1EPvunAiWujL6jEW3GH1nSXnoqCW9GXftEEXodBxwRqbg7BojKDUzZ66DuL7yUo',\n    'width': 4032}],\n  'place_id': 'ChIJ75A0Oe3CQTURhlj66JgGae8',\n  'plus_code': {'compound_code': 'G5MF+PQ Itoshima, Fukuoka, Japan',\n   'global_code': '8Q5GG5MF+PQ'},\n  'rating': 1,\n  'reference': 'ChIJ75A0Oe3CQTURhlj66JgGae8',\n  'scope': 'GOOGLE',\n  'types': ['train_station',\n   'transit_station',\n   'point_of_interest',\n   'establishment'],\n  'user_ratings_total': 1,\n  'vicinity': '792-3 Kamiari, Itoshima'},\n {'business_status': 'OPERATIONAL',\n  'geometry': {'location': {'lat': 33.5343338, 'lng': 130.1681886},\n   'viewport': {'northeast': {'lat': 33.53571028029149,\n     'lng': 130.1694998802915},\n    'southwest': {'lat': 33.5330123197085, 'lng': 130.1668019197085}}},\n  'icon': 'https://maps.gstatic.com/mapfiles/place_api/icons/v1/png_71/train-71.png',\n  'icon_background_color': '#10BDFF',\n  'icon_mask_base_uri': 'https://maps.gstatic.com/mapfiles/place_api/icons/v2/train_rail_1_pinlet',\n  'name': 'Ikisan Station',\n  'photos': [{'height': 2368,\n    'html_attributions': ['<a href=\"https://maps.google.com/maps/contrib/102807221568892666235\">Siōng-ian Lí (リ ションエン)</a>'],\n    'photo_reference': 'ATplDJYdz784PZ74IxNFOtlepDrT3-OmosOIRFQBOuY4L36xo7BWWzPVj3pR1oNZAajUL2OPvx8TZkO-IuNua3vvuMK6N6d3P2Z2r5pmEhxLStEZFoMlfKJUx8Zaq_csDyTlfzCXzPqz7nmeS4smZTuMUFAulkTQw37AmOxymSREnKeXChg',\n    'width': 4208}],\n  'place_id': 'ChIJJaJ0S-rCQTUR5p9Cb7Br9V8',\n  'plus_code': {'compound_code': 'G5M9+P7 Itoshima, Fukuoka, Japan',\n   'global_code': '8Q5GG5M9+P7'},\n  'rating': 3.9,\n  'reference': 'ChIJJaJ0S-rCQTUR5p9Cb7Br9V8',\n  'scope': 'GOOGLE',\n  'types': ['train_station',\n   'transit_station',\n   'point_of_interest',\n   'establishment'],\n  'user_ratings_total': 23,\n  'vicinity': 'Japan'},\n {'business_status': 'OPERATIONAL',\n  'geometry': {'location': {'lat': 33.5151007, 'lng': 130.1393119},\n   'viewport': {'northeast': {'lat': 33.51650598029149,\n     'lng': 130.1406287802915},\n    'southwest': {'lat': 33.51380801970849, 'lng': 130.1379308197085}}},\n  'icon': 'https://maps.gstatic.com/mapfiles/place_api/icons/v1/png_71/train-71.png',\n  'icon_background_color': '#10BDFF',\n  'icon_mask_base_uri': 'https://maps.gstatic.com/mapfiles/place_api/icons/v2/train_rail_1_pinlet',\n  'name': 'Chikuzen-Fukae Station',\n  'photos': [{'height': 960,\n    'html_attributions': ['<a href=\"https://maps.google.com/maps/contrib/112096695734442635211\">健高木</a>'],\n    'photo_reference': 'ATplDJbl2gvTgX_d8Ika0Anh8bI5VIp_2xQ-Lv01kPxKKYA8mZ9X-1P6U2pp9833VdhZjZ1eX4FxHalLn9J6eof-MVilSAGbG3sgGxkut8Ns4yWcUjbdd_e1ROKj4zs9AsZChX6xB5Hi-jBqghj6i8sD0S5iTpG18ykEEpC1Z5jbk-SoY67f',\n    'width': 1920}],\n  'place_id': 'ChIJ94dlRMncQTURrh8EFW_QfBA',\n  'plus_code': {'compound_code': 'G48Q+2P Itoshima, Fukuoka, Japan',\n   'global_code': '8Q5GG48Q+2P'},\n  'rating': 3.6,\n  'reference': 'ChIJ94dlRMncQTURrh8EFW_QfBA',\n  'scope': 'GOOGLE',\n  'types': ['train_station',\n   'transit_station',\n   'point_of_interest',\n   'establishment'],\n  'user_ratings_total': 30,\n  'vicinity': 'Japan'},\n {'business_status': 'OPERATIONAL',\n  'geometry': {'location': {'lat': 33.650366, 'lng': 130.3581609},\n   'viewport': {'northeast': {'lat': 33.6516296302915,\n     'lng': 130.3592854802915},\n    'southwest': {'lat': 33.6489316697085, 'lng': 130.3565875197085}}},\n  'icon': 'https://maps.gstatic.com/mapfiles/place_api/icons/v1/png_71/train-71.png',\n  'icon_background_color': '#10BDFF',\n  'icon_mask_base_uri': 'https://maps.gstatic.com/mapfiles/place_api/icons/v2/train_rail_1_pinlet',\n  'name': 'Saitozaki Station',\n  'photos': [{'height': 3000,\n    'html_attributions': ['<a href=\"https://maps.google.com/maps/contrib/110945720373434116520\">King Slime</a>'],\n    'photo_reference': 'ATplDJauPkBo0D1-GcpqeapVVFDcMSo0kMSyFk--JD011qk-brPED2DvPKFQMBqvvB9hoKtPvl722FV7lYKYHo_FrZC-_DBNPYMpKX-Fx0bRqQbxAfeSbyN9srYip4HRKU6VG1x49CWRtpN9-E-cbKBbEFrrUjK2rC3yXGkaNBTsMoWlDAmx',\n    'width': 4000}],\n  'place_id': 'ChIJiwBlZ5iNQTURU5gX2vFn9oA',\n  'plus_code': {'compound_code': 'M925+47 Fukuoka, Japan',\n   'global_code': '8Q5GM925+47'},\n  'rating': 3.6,\n  'reference': 'ChIJiwBlZ5iNQTURU5gX2vFn9oA',\n  'scope': 'GOOGLE',\n  'types': ['train_station',\n   'transit_station',\n   'point_of_interest',\n   'establishment'],\n  'user_ratings_total': 100,\n  'vicinity': 'Japan'},\n {'business_status': 'OPERATIONAL',\n  'geometry': {'location': {'lat': 33.5886887, 'lng': 130.3999665},\n   'viewport': {'northeast': {'lat': 33.5895867802915,\n     'lng': 130.4018073302915},\n    'southwest': {'lat': 33.5868888197085, 'lng': 130.3991093697085}}},\n  'icon': 'https://maps.gstatic.com/mapfiles/place_api/icons/v1/png_71/train-71.png',\n  'icon_background_color': '#10BDFF',\n  'icon_mask_base_uri': 'https://maps.gstatic.com/mapfiles/place_api/icons/v2/train_rail_1_pinlet',\n  'name': 'Nishitetsu Fukuoka (Tenjin) Station',\n  'photos': [{'height': 900,\n    'html_attributions': ['<a href=\"https://maps.google.com/maps/contrib/100822215413254501473\">伊藤正晃</a>'],\n    'photo_reference': 'ATplDJak9-9XOeGWIJYFre4ND6RRXdTJ-54RpPjo3GnmRF_Gb5kVNgURrkw84WtjgNecR2sW8MoHjr9YE1g9mQ9fLOV7Kzo1EmxkhJMQmvUbbkWY6BbcwxHS09Q6_kxSjq4xqvrxFKeUxr1uQhbcSy7KqiODcVFMZds0EIy2G7-GQc1sUP4g',\n    'width': 1200}],\n  'place_id': 'ChIJE6vr6o-RQTURSk3GcHV8j8M',\n  'plus_code': {'compound_code': 'H9QX+FX Fukuoka, Japan',\n   'global_code': '8Q5GH9QX+FX'},\n  'rating': 4.1,\n  'reference': 'ChIJE6vr6o-RQTURSk3GcHV8j8M',\n  'scope': 'GOOGLE',\n  'types': ['train_station',\n   'transit_station',\n   'point_of_interest',\n   'establishment'],\n  'user_ratings_total': 415,\n  'vicinity': '２-２２ 天神, 福岡市中央区'},\n {'business_status': 'OPERATIONAL',\n  'geometry': {'location': {'lat': 33.5817461, 'lng': 130.4021221},\n   'viewport': {'northeast': {'lat': 33.58305558029151,\n     'lng': 130.4033170302915},\n    'southwest': {'lat': 33.58035761970851, 'lng': 130.4006190697085}}},\n  'icon': 'https://maps.gstatic.com/mapfiles/place_api/icons/v1/png_71/generic_business-71.png',\n  'icon_background_color': '#7B9EB0',\n  'icon_mask_base_uri': 'https://maps.gstatic.com/mapfiles/place_api/icons/v2/generic_pinlet',\n  'name': 'Yakuin Sta.',\n  'photos': [{'height': 3024,\n    'html_attributions': ['<a href=\"https://maps.google.com/maps/contrib/113485351981797640556\">倉松</a>'],\n    'photo_reference': 'ATplDJYvfutHp1gfwu1T5n6sIm5GZz0KD1_ODT7WMJqzN6gkvIwu2XYINttWxFA72_xdYBJO7JDgPO3QXF-LIMSZsY8oHx_GyiXQ8uh-zg0pkAYxACx0soe8PWrF625DHVVQCnNJ23_i095OhSRdIHao-RHCIN0LcgEuYGQtgO6fXvQhfSF9',\n    'width': 4032}],\n  'place_id': 'ChIJdbxNo5yRQTURfEUSvo4RZe0',\n  'plus_code': {'compound_code': 'HCJ2+MR Fukuoka, Japan',\n   'global_code': '8Q5GHCJ2+MR'},\n  'rating': 3.9,\n  'reference': 'ChIJdbxNo5yRQTURfEUSvo4RZe0',\n  'scope': 'GOOGLE',\n  'types': ['transit_station',\n   'train_station',\n   'subway_station',\n   'point_of_interest',\n   'establishment'],\n  'user_ratings_total': 192,\n  'vicinity': 'Japan'},\n {'business_status': 'OPERATIONAL',\n  'geometry': {'location': {'lat': 33.6638923, 'lng': 130.3614102},\n   'viewport': {'northeast': {'lat': 33.6653819302915,\n     'lng': 130.3628839802915},\n    'southwest': {'lat': 33.6626839697085, 'lng': 130.3601860197085}}},\n  'icon': 'https://maps.gstatic.com/mapfiles/place_api/icons/v1/png_71/train-71.png',\n  'icon_background_color': '#10BDFF',\n  'icon_mask_base_uri': 'https://maps.gstatic.com/mapfiles/place_api/icons/v2/train_rail_1_pinlet',\n  'name': 'Uminonakamichi Station',\n  'photos': [{'height': 1660,\n    'html_attributions': ['<a href=\"https://maps.google.com/maps/contrib/106889869776847980008\">Laxic Hsiao</a>'],\n    'photo_reference': 'ATplDJaEDHQMEgCBZFcyjRMK_ZUW29f1Cz01BB704zTWvaBcUCTMp5WzS_5b40ZSpeUyVyBaavbdKsTeHOrsOKoldR6WC0Kz5iC6G4y-vaQWSQKBlCHhhFZe-2x82DeX1fV4s6-OqG6BB3ZHvV__PqzYRErMF-hb3-q6XG5SwVBz6kmNoUmJ',\n    'width': 2491}],\n  'place_id': 'ChIJ3TdSJLKNQTURNA6c41YcDMU',\n  'plus_code': {'compound_code': 'M976+HH Fukuoka, Japan',\n   'global_code': '8Q5GM976+HH'},\n  'rating': 3.9,\n  'reference': 'ChIJ3TdSJLKNQTURNA6c41YcDMU',\n  'scope': 'GOOGLE',\n  'types': ['train_station',\n   'transit_station',\n   'point_of_interest',\n   'establishment'],\n  'user_ratings_total': 116,\n  'vicinity': 'Japan'},\n {'business_status': 'OPERATIONAL',\n  'geometry': {'location': {'lat': 33.5736798, 'lng': 130.4062182},\n   'viewport': {'northeast': {'lat': 33.5749083802915,\n     'lng': 130.4076544302915},\n    'southwest': {'lat': 33.5722104197085, 'lng': 130.4049564697085}}},\n  'icon': 'https://maps.gstatic.com/mapfiles/place_api/icons/v1/png_71/train-71.png',\n  'icon_background_color': '#10BDFF',\n  'icon_mask_base_uri': 'https://maps.gstatic.com/mapfiles/place_api/icons/v2/train_rail_1_pinlet',\n  'name': 'Nishitetsu Hirao Sta.',\n  'photos': [{'height': 900,\n    'html_attributions': ['<a href=\"https://maps.google.com/maps/contrib/100822215413254501473\">伊藤正晃</a>'],\n    'photo_reference': 'ATplDJal1HcZSvV89fJm61u_T4wyAYXMuuN6FS5b5WOByJEoxJ_m6faNMgoZu77rV944oWfBJlr4zCX7BFRV4r4ticZy--1h9M59WX5xuRrEtT6VqHPfqgHhRfXo9TDpRb1OYLwr8KjYIMsUksFt_b_c9h_kfJ82Q--R_6_XGffjhhyo9Td0',\n    'width': 1600}],\n  'place_id': 'ChIJR4kbLXSRQTURUCPsB8xbV0w',\n  'plus_code': {'compound_code': 'HCF4+FF Fukuoka, Japan',\n   'global_code': '8Q5GHCF4+FF'},\n  'rating': 3.8,\n  'reference': 'ChIJR4kbLXSRQTURUCPsB8xbV0w',\n  'scope': 'GOOGLE',\n  'types': ['train_station',\n   'transit_station',\n   'point_of_interest',\n   'establishment'],\n  'user_ratings_total': 56,\n  'vicinity': 'Japan'},\n {'business_status': 'OPERATIONAL',\n  'geometry': {'location': {'lat': 33.5669902, 'lng': 130.41477},\n   'viewport': {'northeast': {'lat': 33.56835738029149,\n     'lng': 130.4159999302915},\n    'southwest': {'lat': 33.5656594197085, 'lng': 130.4133019697085}}},\n  'icon': 'https://maps.gstatic.com/mapfiles/place_api/icons/v1/png_71/train-71.png',\n  'icon_background_color': '#10BDFF',\n  'icon_mask_base_uri': 'https://maps.gstatic.com/mapfiles/place_api/icons/v2/train_rail_1_pinlet',\n  'name': 'Takamiya Station',\n  'photos': [{'height': 2268,\n    'html_attributions': ['<a href=\"https://maps.google.com/maps/contrib/116701445395125482048\">焼き肉ほ る も ん</a>'],\n    'photo_reference': 'ATplDJapuy5nVhPTRJ50j8b_L1ip1RlGu7WmnP7b8fewcuF_d7gdin4R4-JrghDgnjz5Fh_KE7L66WRVVUD0lWMKviHa8HEOv_dD-jub-B2N0B9IEFnTRa7InR1SBW_ToMd1_8L-T7ceXtobborOqlD_BqO4_QxtvIWcmvp1SBTNcXpSrYTn',\n    'width': 4032}],\n  'place_id': 'ChIJ3cLcFQyRQTURlVy8HmCJGCo',\n  'plus_code': {'compound_code': 'HC87+QW Fukuoka, Japan',\n   'global_code': '8Q5GHC87+QW'},\n  'rating': 3.8,\n  'reference': 'ChIJ3cLcFQyRQTURlVy8HmCJGCo',\n  'scope': 'GOOGLE',\n  'types': ['train_station',\n   'transit_station',\n   'point_of_interest',\n   'establishment'],\n  'user_ratings_total': 96,\n  'vicinity': 'Japan'}]"
     },
     "execution_count": 130,
     "metadata": {},
     "output_type": "execute_result"
    }
   ],
   "source": [
    "def places_nearby(**kwargs):\n",
    "    result = gmaps.places_nearby(**kwargs)\n",
    "    yield from result[\"results\"]\n",
    "    if kwargs.get(\"radius\") is not None:\n",
    "        while \"next_page_token\" in result:\n",
    "            try:\n",
    "                result = gmaps.places_nearby(page_token=result[\"next_page_token\"])\n",
    "                yield from result[\"results\"]\n",
    "            except Exception as e:\n",
    "                if str(e).find('INVALID_REQUEST') != -1:\n",
    "                    time.sleep(1.0)\n",
    "                else:\n",
    "                    raise e\n",
    "\n",
    "\n",
    "test_result = list(places_nearby(\n",
    "    location=('33.5762809282905', '130.251347894427'),\n",
    "    type=[\"train_station\", \"light_rail_station\", \"subway_station\", \"transit_station\"],\n",
    "    rank_by=\"distance\"\n",
    "))\n",
    "test_result"
   ],
   "metadata": {
    "collapsed": false,
    "ExecuteTime": {
     "end_time": "2024-04-02T08:26:27.291027Z",
     "start_time": "2024-04-02T08:26:27.167886Z"
    }
   },
   "id": "eb22badd8abc496d",
   "execution_count": 130
  },
  {
   "cell_type": "code",
   "outputs": [
    {
     "name": "stdout",
     "output_type": "stream",
     "text": [
      "Updating nearby_train_station\n",
      "Updating nearby_restaurant\n",
      "Updating nearby_supermarket\n",
      "Updating nearby_convenience_store\n",
      "Updating nearby_drugstore\n",
      "Updating nearby_park\n",
      "Updating nearby_primary_school\n",
      "Updating nearby_cafe\n",
      "Updating nearby_bus_station\n"
     ]
    }
   ],
   "source": [
    "NEARBY_TYPES = [\n",
    "    dict(type=[\"train_station\", \"light_rail_station\", \"subway_station\", \"transit_station\"], rank_by=\"distance\"),\n",
    "    # dict(type=[\"restaurant\"], radius=1000),\n",
    "    # dict(type=[\"supermarket\"], radius=1000),\n",
    "    # dict(type=[\"convenience_store\"], radius=1000),\n",
    "    # dict(type=[\"drugstore\"], radius=1000),\n",
    "    # dict(type=[\"park\"], radius=1000),\n",
    "    # dict(type=[\"primary_school\"], radius=1000),\n",
    "    # dict(type=[\"cafe\"], radius=1000),\n",
    "    # dict(type=[\"bus_station\"], radius=500),\n",
    "]\n",
    "\n",
    "for nearby_kwargs in NEARBY_TYPES:\n",
    "    key = \"nearby_{}\".format(nearby_kwargs[\"type\"][0])\n",
    "    condition = {'search_time': search_time, key: {\"$exists\": False}}\n",
    "\n",
    "\n",
    "    def _update_doc(_doc):\n",
    "        return suumo_details.update_one({\"_id\": _doc[\"_id\"]}, {\"$set\": {\n",
    "            key: {\n",
    "                \"search_kwargs\": nearby_kwargs,\n",
    "                \"results\": list(places_nearby(\n",
    "                    location=(_doc[\"gps\"][\"latitude\"], _doc[\"gps\"][\"longitude\"]),\n",
    "                    language=\"ja\",\n",
    "                    **nearby_kwargs\n",
    "                ))\n",
    "            }\n",
    "        }}).acknowledged\n",
    "\n",
    "\n",
    "    print(f\"Updating {key}\")\n",
    "    with ThreadPoolExecutor(max_workers=64) as tpe:\n",
    "        docs = list(suumo_details.find(condition, {\"_id\": 1, \"gps\": 1}))\n",
    "        futures = [tpe.submit(_update_doc, doc) for doc in docs]\n",
    "        assert all([f.result() for f in futures])\n"
   ],
   "metadata": {
    "collapsed": false,
    "ExecuteTime": {
     "end_time": "2024-04-02T08:33:49.961997Z",
     "start_time": "2024-04-02T08:33:49.877848Z"
    }
   },
   "id": "55b3e3cdadc353cc",
   "execution_count": 137
  },
  {
   "cell_type": "code",
   "outputs": [],
   "source": [
    "# Use for reset result\n",
    "# suumo_details.update_many({}, {\"$unset\": {\n",
    "#     \"nearby_{}\".format(nearby_kwargs[\"type\"][0]): \"\" for nearby_kwargs in NEARBY_TYPES\n",
    "# }}).modified_count"
   ],
   "metadata": {
    "collapsed": false
   },
   "id": "d0a52ee8bd44b4cc",
   "execution_count": null
  }
 ],
 "metadata": {
  "kernelspec": {
   "display_name": "Python 3",
   "language": "python",
   "name": "python3"
  },
  "language_info": {
   "codemirror_mode": {
    "name": "ipython",
    "version": 2
   },
   "file_extension": ".py",
   "mimetype": "text/x-python",
   "name": "python",
   "nbconvert_exporter": "python",
   "pygments_lexer": "ipython2",
   "version": "2.7.6"
  }
 },
 "nbformat": 4,
 "nbformat_minor": 5
}
