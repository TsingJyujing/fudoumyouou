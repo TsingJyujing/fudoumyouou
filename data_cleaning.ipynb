{
 "cells": [
  {
   "cell_type": "code",
   "execution_count": 32,
   "id": "initial_id",
   "metadata": {
    "collapsed": true,
    "ExecuteTime": {
     "end_time": "2024-04-02T10:03:41.473406Z",
     "start_time": "2024-04-02T10:03:41.469663Z"
    }
   },
   "outputs": [],
   "source": [
    "import json\n",
    "\n",
    "from domus_analytica.config import DomusSettings\n",
    "from domus_analytica.geopoint import GeoPoint\n",
    "\n",
    "config = DomusSettings(_env_file=\".env.local\")"
   ]
  },
  {
   "cell_type": "code",
   "execution_count": 33,
   "id": "3e22ee40e890b646",
   "metadata": {
    "ExecuteTime": {
     "end_time": "2024-04-02T10:03:42.354610Z",
     "start_time": "2024-04-02T10:03:42.348078Z"
    }
   },
   "outputs": [],
   "source": [
    "import pymongo\n",
    "\n",
    "domus_db = pymongo.MongoClient(config.mongo_uri).get_database(config.mongo_db_name)\n",
    "suumo_search = domus_db.get_collection(\"suumo_search\")\n",
    "suumo_details = domus_db.get_collection(\"suumo_details\")"
   ]
  },
  {
   "cell_type": "code",
   "outputs": [
    {
     "data": {
      "text/plain": "                                                    id  \\\n0    /ms/chuko/fukuoka/sc_fukuokashihigashi/nc_7437...   \n1    /ms/chuko/fukuoka/sc_fukuokashihigashi/nc_7460...   \n2    /ms/chuko/fukuoka/sc_fukuokashihigashi/nc_7250...   \n3    /ms/chuko/fukuoka/sc_fukuokashiminami/nc_73552...   \n4    /ms/chuko/fukuoka/sc_fukuokashihakata/nc_74582...   \n..                                                 ...   \n646  /ms/chuko/fukuoka/sc_fukuokashisawara/nc_73999...   \n647   /ms/chuko/fukuoka/sc_fukuokashichuo/nc_73742555/   \n648  /ms/chuko/fukuoka/sc_fukuokashisawara/nc_74606...   \n649  /ms/chuko/fukuoka/sc_fukuokashiminami/nc_74158...   \n650  /ms/chuko/fukuoka/sc_fukuokashisawara/nc_73776...   \n\n                       name            address               lat  \\\n0    モントーレブルー・ラ・メール Fukuoka  福岡県福岡市東区西戸崎２-1-30  33.6461037815746   \n1                ファーネスト箱崎公園        福岡県福岡市東区松田２  33.6203572036973   \n2      Asobi+　JGMヴェルデ香椎南弐番館        福岡県福岡市東区八田１    33.63406257298   \n3        エイルヴィラクレアテュール井尻南II        福岡県福岡市南区曰佐２   33.540890670713   \n4                   アンピール吉塚       福岡県福岡市博多区吉塚６  33.6075918806721   \n..                      ...                ...               ...   \n646              グランドメゾン百道浜      福岡県福岡市早良区百道浜３  33.5915565318577   \n647                  ネクサス薬院       福岡県福岡市中央区薬院１  33.5820367654343   \n648           フリーディア西新プレミアム       福岡県福岡市早良区西新６  33.5857458518373   \n649               レークヒルズ野多目       福岡県福岡市南区野多目３         33.542951   \n650       パークホームズ西新トラッドマークス       福岡県福岡市早良区西新２         33.586351   \n\n                  lon   price  exclusive_area  common_area completion_date  \\\n0      130.3599501447  2080.0           57.25        11.04      2007-01-01   \n1    130.443550474538  2080.0           69.85        38.10      2008-06-01   \n2    130.456704058744  2490.0           93.33        24.55      2001-06-01   \n3    130.438664435095  2580.0           75.42        20.88      1999-05-01   \n4    130.429482478425  2780.0           65.10        14.00      2000-11-01   \n..                ...     ...             ...          ...             ...   \n646  130.352199721123  7800.0           94.02        18.10      2008-01-01   \n647  130.397959959864  7980.0           78.92        19.75      2015-06-01   \n648  130.354769050504  7980.0           81.77        26.46      2022-05-01   \n649        130.420432  2580.0           89.57        19.12      2002-03-01   \n650        130.360529  6480.0           69.22        12.00      2018-05-01   \n\n    layout_main  ...  primary_school_count distance_to_nearest_station  \\\n0          2LDK  ...                     0                    0.502634   \n1          3LDK  ...                     1                    0.804436   \n2          4LDK  ...                     4                    0.875963   \n3          3LDK  ...                     5                    1.319945   \n4          3LDK  ...                     7                    0.548731   \n..          ...  ...                   ...                         ...   \n646        2LDK  ...                     4                    2.661638   \n647        3LDK  ...                     8                    0.387372   \n648        3LDK  ...                     6                    2.763019   \n649        3LDK  ...                     6                    1.894546   \n650        3LDK  ...                     4                    3.301001   \n\n     distance_to_tenjin  distance_to_hakata  distance_to_ohori_park  \\\n0              7.085989            8.566679                6.455506   \n1              5.285324            4.284875                6.865806   \n2              7.199107            6.226393                8.705188   \n3              6.720793            5.468257                7.810530   \n4              3.398220            2.424849                5.070826   \n..                  ...                 ...                     ...   \n646            4.301424            6.275862                2.479023   \n647            1.019605            2.101639                1.993657   \n648            4.107896            6.023474                2.293688   \n649            5.739001            4.948263                6.529692   \n650            3.569616            5.487681                1.758601   \n\n     monthly_fee_manage  monthly_fee_repair  monthly_fee_repair_fund  \\\n0                7800.0              3400.0                        0   \n1                7600.0              9100.0                        0   \n2                7500.0              4900.0                        0   \n3                7430.0              8300.0                        0   \n4                5200.0              6840.0                        0   \n..                  ...                 ...                      ...   \n646              3100.0              6500.0                        0   \n647              6800.0               300.0                        0   \n648              2100.0              7600.0                        0   \n649              6400.0              3100.0                        0   \n650              8020.0              6850.0                        0   \n\n     monthly_fee_others  monthly_fee_total  \n0                 800.0            12000.0  \n1                   0.0            16700.0  \n2                   0.0            12400.0  \n3                   0.0            15730.0  \n4                   0.0            12040.0  \n..                  ...                ...  \n646               200.0             9800.0  \n647              1100.0             8200.0  \n648               250.0             9950.0  \n649                 0.0             9500.0  \n650                 0.0            14870.0  \n\n[651 rows x 32 columns]",
      "text/html": "<div>\n<style scoped>\n    .dataframe tbody tr th:only-of-type {\n        vertical-align: middle;\n    }\n\n    .dataframe tbody tr th {\n        vertical-align: top;\n    }\n\n    .dataframe thead th {\n        text-align: right;\n    }\n</style>\n<table border=\"1\" class=\"dataframe\">\n  <thead>\n    <tr style=\"text-align: right;\">\n      <th></th>\n      <th>id</th>\n      <th>name</th>\n      <th>address</th>\n      <th>lat</th>\n      <th>lon</th>\n      <th>price</th>\n      <th>exclusive_area</th>\n      <th>common_area</th>\n      <th>completion_date</th>\n      <th>layout_main</th>\n      <th>...</th>\n      <th>primary_school_count</th>\n      <th>distance_to_nearest_station</th>\n      <th>distance_to_tenjin</th>\n      <th>distance_to_hakata</th>\n      <th>distance_to_ohori_park</th>\n      <th>monthly_fee_manage</th>\n      <th>monthly_fee_repair</th>\n      <th>monthly_fee_repair_fund</th>\n      <th>monthly_fee_others</th>\n      <th>monthly_fee_total</th>\n    </tr>\n  </thead>\n  <tbody>\n    <tr>\n      <th>0</th>\n      <td>/ms/chuko/fukuoka/sc_fukuokashihigashi/nc_7437...</td>\n      <td>モントーレブルー・ラ・メール Fukuoka</td>\n      <td>福岡県福岡市東区西戸崎２-1-30</td>\n      <td>33.6461037815746</td>\n      <td>130.3599501447</td>\n      <td>2080.0</td>\n      <td>57.25</td>\n      <td>11.04</td>\n      <td>2007-01-01</td>\n      <td>2LDK</td>\n      <td>...</td>\n      <td>0</td>\n      <td>0.502634</td>\n      <td>7.085989</td>\n      <td>8.566679</td>\n      <td>6.455506</td>\n      <td>7800.0</td>\n      <td>3400.0</td>\n      <td>0</td>\n      <td>800.0</td>\n      <td>12000.0</td>\n    </tr>\n    <tr>\n      <th>1</th>\n      <td>/ms/chuko/fukuoka/sc_fukuokashihigashi/nc_7460...</td>\n      <td>ファーネスト箱崎公園</td>\n      <td>福岡県福岡市東区松田２</td>\n      <td>33.6203572036973</td>\n      <td>130.443550474538</td>\n      <td>2080.0</td>\n      <td>69.85</td>\n      <td>38.10</td>\n      <td>2008-06-01</td>\n      <td>3LDK</td>\n      <td>...</td>\n      <td>1</td>\n      <td>0.804436</td>\n      <td>5.285324</td>\n      <td>4.284875</td>\n      <td>6.865806</td>\n      <td>7600.0</td>\n      <td>9100.0</td>\n      <td>0</td>\n      <td>0.0</td>\n      <td>16700.0</td>\n    </tr>\n    <tr>\n      <th>2</th>\n      <td>/ms/chuko/fukuoka/sc_fukuokashihigashi/nc_7250...</td>\n      <td>Asobi+　JGMヴェルデ香椎南弐番館</td>\n      <td>福岡県福岡市東区八田１</td>\n      <td>33.63406257298</td>\n      <td>130.456704058744</td>\n      <td>2490.0</td>\n      <td>93.33</td>\n      <td>24.55</td>\n      <td>2001-06-01</td>\n      <td>4LDK</td>\n      <td>...</td>\n      <td>4</td>\n      <td>0.875963</td>\n      <td>7.199107</td>\n      <td>6.226393</td>\n      <td>8.705188</td>\n      <td>7500.0</td>\n      <td>4900.0</td>\n      <td>0</td>\n      <td>0.0</td>\n      <td>12400.0</td>\n    </tr>\n    <tr>\n      <th>3</th>\n      <td>/ms/chuko/fukuoka/sc_fukuokashiminami/nc_73552...</td>\n      <td>エイルヴィラクレアテュール井尻南II</td>\n      <td>福岡県福岡市南区曰佐２</td>\n      <td>33.540890670713</td>\n      <td>130.438664435095</td>\n      <td>2580.0</td>\n      <td>75.42</td>\n      <td>20.88</td>\n      <td>1999-05-01</td>\n      <td>3LDK</td>\n      <td>...</td>\n      <td>5</td>\n      <td>1.319945</td>\n      <td>6.720793</td>\n      <td>5.468257</td>\n      <td>7.810530</td>\n      <td>7430.0</td>\n      <td>8300.0</td>\n      <td>0</td>\n      <td>0.0</td>\n      <td>15730.0</td>\n    </tr>\n    <tr>\n      <th>4</th>\n      <td>/ms/chuko/fukuoka/sc_fukuokashihakata/nc_74582...</td>\n      <td>アンピール吉塚</td>\n      <td>福岡県福岡市博多区吉塚６</td>\n      <td>33.6075918806721</td>\n      <td>130.429482478425</td>\n      <td>2780.0</td>\n      <td>65.10</td>\n      <td>14.00</td>\n      <td>2000-11-01</td>\n      <td>3LDK</td>\n      <td>...</td>\n      <td>7</td>\n      <td>0.548731</td>\n      <td>3.398220</td>\n      <td>2.424849</td>\n      <td>5.070826</td>\n      <td>5200.0</td>\n      <td>6840.0</td>\n      <td>0</td>\n      <td>0.0</td>\n      <td>12040.0</td>\n    </tr>\n    <tr>\n      <th>...</th>\n      <td>...</td>\n      <td>...</td>\n      <td>...</td>\n      <td>...</td>\n      <td>...</td>\n      <td>...</td>\n      <td>...</td>\n      <td>...</td>\n      <td>...</td>\n      <td>...</td>\n      <td>...</td>\n      <td>...</td>\n      <td>...</td>\n      <td>...</td>\n      <td>...</td>\n      <td>...</td>\n      <td>...</td>\n      <td>...</td>\n      <td>...</td>\n      <td>...</td>\n      <td>...</td>\n    </tr>\n    <tr>\n      <th>646</th>\n      <td>/ms/chuko/fukuoka/sc_fukuokashisawara/nc_73999...</td>\n      <td>グランドメゾン百道浜</td>\n      <td>福岡県福岡市早良区百道浜３</td>\n      <td>33.5915565318577</td>\n      <td>130.352199721123</td>\n      <td>7800.0</td>\n      <td>94.02</td>\n      <td>18.10</td>\n      <td>2008-01-01</td>\n      <td>2LDK</td>\n      <td>...</td>\n      <td>4</td>\n      <td>2.661638</td>\n      <td>4.301424</td>\n      <td>6.275862</td>\n      <td>2.479023</td>\n      <td>3100.0</td>\n      <td>6500.0</td>\n      <td>0</td>\n      <td>200.0</td>\n      <td>9800.0</td>\n    </tr>\n    <tr>\n      <th>647</th>\n      <td>/ms/chuko/fukuoka/sc_fukuokashichuo/nc_73742555/</td>\n      <td>ネクサス薬院</td>\n      <td>福岡県福岡市中央区薬院１</td>\n      <td>33.5820367654343</td>\n      <td>130.397959959864</td>\n      <td>7980.0</td>\n      <td>78.92</td>\n      <td>19.75</td>\n      <td>2015-06-01</td>\n      <td>3LDK</td>\n      <td>...</td>\n      <td>8</td>\n      <td>0.387372</td>\n      <td>1.019605</td>\n      <td>2.101639</td>\n      <td>1.993657</td>\n      <td>6800.0</td>\n      <td>300.0</td>\n      <td>0</td>\n      <td>1100.0</td>\n      <td>8200.0</td>\n    </tr>\n    <tr>\n      <th>648</th>\n      <td>/ms/chuko/fukuoka/sc_fukuokashisawara/nc_74606...</td>\n      <td>フリーディア西新プレミアム</td>\n      <td>福岡県福岡市早良区西新６</td>\n      <td>33.5857458518373</td>\n      <td>130.354769050504</td>\n      <td>7980.0</td>\n      <td>81.77</td>\n      <td>26.46</td>\n      <td>2022-05-01</td>\n      <td>3LDK</td>\n      <td>...</td>\n      <td>6</td>\n      <td>2.763019</td>\n      <td>4.107896</td>\n      <td>6.023474</td>\n      <td>2.293688</td>\n      <td>2100.0</td>\n      <td>7600.0</td>\n      <td>0</td>\n      <td>250.0</td>\n      <td>9950.0</td>\n    </tr>\n    <tr>\n      <th>649</th>\n      <td>/ms/chuko/fukuoka/sc_fukuokashiminami/nc_74158...</td>\n      <td>レークヒルズ野多目</td>\n      <td>福岡県福岡市南区野多目３</td>\n      <td>33.542951</td>\n      <td>130.420432</td>\n      <td>2580.0</td>\n      <td>89.57</td>\n      <td>19.12</td>\n      <td>2002-03-01</td>\n      <td>3LDK</td>\n      <td>...</td>\n      <td>6</td>\n      <td>1.894546</td>\n      <td>5.739001</td>\n      <td>4.948263</td>\n      <td>6.529692</td>\n      <td>6400.0</td>\n      <td>3100.0</td>\n      <td>0</td>\n      <td>0.0</td>\n      <td>9500.0</td>\n    </tr>\n    <tr>\n      <th>650</th>\n      <td>/ms/chuko/fukuoka/sc_fukuokashisawara/nc_73776...</td>\n      <td>パークホームズ西新トラッドマークス</td>\n      <td>福岡県福岡市早良区西新２</td>\n      <td>33.586351</td>\n      <td>130.360529</td>\n      <td>6480.0</td>\n      <td>69.22</td>\n      <td>12.00</td>\n      <td>2018-05-01</td>\n      <td>3LDK</td>\n      <td>...</td>\n      <td>4</td>\n      <td>3.301001</td>\n      <td>3.569616</td>\n      <td>5.487681</td>\n      <td>1.758601</td>\n      <td>8020.0</td>\n      <td>6850.0</td>\n      <td>0</td>\n      <td>0.0</td>\n      <td>14870.0</td>\n    </tr>\n  </tbody>\n</table>\n<p>651 rows × 32 columns</p>\n</div>"
     },
     "execution_count": 38,
     "metadata": {},
     "output_type": "execute_result"
    }
   ],
   "source": [
    "from typing import Optional\n",
    "import re\n",
    "import pandas as pd\n",
    "import datetime\n",
    "\n",
    "table_data = []\n",
    "\n",
    "for doc in suumo_details.find({'search_time': datetime.datetime(2024, 4, 1, 14, 46, 31, 449000)}):\n",
    "    id_url = doc[\"search_details\"][\"url\"]\n",
    "    result_doc = {\"id\": id_url}\n",
    "    content_details = {\n",
    "        d[\"type\"]: d[\"content\"] for d in doc[\"content_details\"]\n",
    "    }\n",
    "\n",
    "\n",
    "    def get_first(regexp: str) -> Optional[str]:\n",
    "        for d in doc[\"content_details\"]:\n",
    "            if re.match(regexp, d[\"type\"]) is not None:\n",
    "                return d[\"content\"]\n",
    "        return None\n",
    "\n",
    "\n",
    "    result_doc[\"name\"] = content_details[\"物件名\"]\n",
    "    result_doc[\"address\"] = content_details[\"住所\"].split(\"\\n\")[0]\n",
    "\n",
    "    if \"gps\" in doc:\n",
    "        lat, lon = doc[\"gps\"][\"latitude\"], doc[\"gps\"][\"longitude\"]\n",
    "        result_doc[\"lat\"] = lat\n",
    "        result_doc[\"lon\"] = lon\n",
    "    if \"価格\" in content_details:\n",
    "        result_doc[\"price\"] = float(re.findall(\"([+-]?([0-9]*[.])?[0-9]+)万円\", content_details[\"価格\"])[0][0])\n",
    "\n",
    "    if \"専有面積\" in content_details:\n",
    "        sr = re.findall(\"([+-]?([0-9]*[.])?[0-9]+)(m2|㎡)\", content_details[\"専有面積\"])\n",
    "        if sr:\n",
    "            result_doc[\"exclusive_area\"] = float(sr[0][0])\n",
    "        else:\n",
    "            raise ValueError(\"Can't get area from {}\".format(content_details[\"専有面積\"]))\n",
    "    else:\n",
    "        print(f\"専有面積 can not be found in content_details of {id_url}\")\n",
    "\n",
    "    if \"その他面積\" in content_details:\n",
    "        result_doc[\"common_area\"] = sum(\n",
    "            float(sr[0]) for sr in re.findall(\"([+-]?([0-9]*[.])?[0-9]+)(m2|㎡)\", content_details[\"その他面積\"]))\n",
    "    else:\n",
    "        print(f\"その他面積 can not be found in content_details of {id_url}\")\n",
    "\n",
    "    completion_date = get_first(\".*?(完成時期|築年月).*?\")\n",
    "    if completion_date:\n",
    "        try:\n",
    "            cd = re.findall(r\"(\\d{4})年(\\d+)月\", completion_date)[0]\n",
    "            result_doc[\"completion_date\"] = f\"{int(cd[0])}-{int(cd[1]):02d}-01\"\n",
    "        except Exception as ex:\n",
    "            print(f\"Can't get time from {completion_date} in {content_details}\")\n",
    "            raise ex\n",
    "\n",
    "    layout = content_details.get(\"間取り\")\n",
    "    if layout:\n",
    "        result_doc[\"layout_main\"] = re.findall(r\"(\\d(L|D|K)+)\", layout)[0][0]\n",
    "        storage_room = re.findall(r\"\\+(\\d{0,1})S\", layout)\n",
    "        if len(storage_room) > 0:\n",
    "            if storage_room[0] == \"\":\n",
    "                result_doc[\"layout_storage_room\"] = 1\n",
    "            else:\n",
    "                result_doc[\"layout_storage_room\"] = int(storage_room[0])\n",
    "        else:\n",
    "            result_doc[\"layout_storage_room\"] = 0\n",
    "\n",
    "    direction = content_details.get(\"向き\")\n",
    "    if direction:\n",
    "        result_doc[\"direction\"] = direction\n",
    "\n",
    "    result_doc[\"pet\"] = re.match(\"ペット\", doc[\"search_details\"][\"title\"]) is not None\n",
    "    the_floor = content_details.get(\"所在階\", get_first(\"所在階\"))\n",
    "    if the_floor:\n",
    "        result_doc[\"floor\"] = int(re.findall(\"(\\d+)階\", the_floor)[0])\n",
    "\n",
    "    total_floors = get_first(\".*?階建.*?\")\n",
    "    if total_floors:\n",
    "        try:\n",
    "            result_doc[\"total_floors\"] = int(re.findall(\"(\\d+)階建\", total_floors)[0])\n",
    "        except Exception as ex:\n",
    "            print(f\"Can't parse {total_floors}\")\n",
    "            raise ex\n",
    "\n",
    "\n",
    "    for t in [\"restaurant\", \"supermarket\", \"convenience_store\", \"drugstore\", \"park\", \"cafe\", \"bus_station\",\n",
    "              \"primary_school\"]:\n",
    "        if f\"nearby_{t}\" in doc:\n",
    "            result_doc[f\"{t}_count\"] = len(doc[f\"nearby_{t}\"][\"results\"])\n",
    "    \n",
    "    if \"gps\" in doc:\n",
    "        # Nearest Station\n",
    "        this_location = GeoPoint.parse_obj(doc[\"gps\"])\n",
    "        if \"nearby_train_station\" in doc:\n",
    "            station_location = doc[\"nearby_train_station\"][\"results\"][0][\"geometry\"][\"location\"]\n",
    "            result_doc[\"distance_to_nearest_station\"] = (\n",
    "                    GeoPoint(latitude=station_location[\"lat\"], longitude=station_location[\"lng\"])\n",
    "                    - this_location\n",
    "            )\n",
    "        for p, n in [\n",
    "            (\n",
    "                    GeoPoint(latitude=33.59118086094799, longitude=130.398581611983),\n",
    "                    \"tenjin\",\n",
    "            ),\n",
    "            (\n",
    "                    GeoPoint(latitude=33.5873955705478, longitude=130.41968891935684),\n",
    "                    \"hakata\"\n",
    "            ),\n",
    "            (\n",
    "                    GeoPoint(latitude=33.59030230439562, longitude=130.37888950301377),\n",
    "                    \"ohori_park\"\n",
    "            ),\n",
    "        ]:\n",
    "            result_doc[f\"distance_to_{n}\"] = this_location - p\n",
    "\n",
    "    def get_monthly_fee(key):\n",
    "        return sum(float(r) for r in re.findall(\"(\\d+)円／月\", content_details[key]))\n",
    "\n",
    "\n",
    "    result_doc[\"monthly_fee_manage\"] = get_monthly_fee(\"管理費\")\n",
    "    result_doc[\"monthly_fee_repair\"] = get_monthly_fee(\"修繕積立金\")\n",
    "    result_doc[\"monthly_fee_repair_fund\"] = get_monthly_fee(\"修繕積立基金\")\n",
    "    result_doc[\"monthly_fee_others\"] = get_monthly_fee(\"諸費用\")\n",
    "    result_doc[\"monthly_fee_total\"] = sum([\n",
    "        result_doc[\"monthly_fee_manage\"],\n",
    "        result_doc[\"monthly_fee_repair\"],\n",
    "        result_doc[\"monthly_fee_repair_fund\"],\n",
    "        result_doc[\"monthly_fee_others\"]\n",
    "    ])\n",
    "\n",
    "    table_data.append(result_doc)\n",
    "\n",
    "df = pd.DataFrame(table_data)\n",
    "df"
   ],
   "metadata": {
    "collapsed": false,
    "ExecuteTime": {
     "end_time": "2024-04-02T10:06:38.510451Z",
     "start_time": "2024-04-02T10:06:32.549729Z"
    }
   },
   "id": "5b2b2b25b566df2f",
   "execution_count": 38
  },
  {
   "cell_type": "code",
   "outputs": [],
   "source": [
    "with open(\"data/table_data.json\", \"w\") as fp:\n",
    "    json.dump(table_data, fp)"
   ],
   "metadata": {
    "collapsed": false,
    "ExecuteTime": {
     "end_time": "2024-04-02T10:06:57.387851Z",
     "start_time": "2024-04-02T10:06:57.368791Z"
    }
   },
   "id": "1d45e6bc4bf2a4c0",
   "execution_count": 39
  },
  {
   "cell_type": "code",
   "outputs": [],
   "source": [],
   "metadata": {
    "collapsed": false
   },
   "id": "6fee51ee517decb"
  }
 ],
 "metadata": {
  "kernelspec": {
   "display_name": "Python 3 (ipykernel)",
   "language": "python",
   "name": "python3"
  },
  "language_info": {
   "codemirror_mode": {
    "name": "ipython",
    "version": 3
   },
   "file_extension": ".py",
   "mimetype": "text/x-python",
   "name": "python",
   "nbconvert_exporter": "python",
   "pygments_lexer": "ipython3",
   "version": "3.9.10"
  }
 },
 "nbformat": 4,
 "nbformat_minor": 5
}
